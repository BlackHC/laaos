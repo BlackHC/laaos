{
 "cells": [
  {
   "cell_type": "code",
   "execution_count": 1,
   "metadata": {
    "ExecuteTime": {
     "end_time": "2019-04-18T20:31:39.694960Z",
     "start_time": "2019-04-18T20:31:39.631710Z"
    }
   },
   "outputs": [
    {
     "name": "stdout",
     "output_type": "stream",
     "text": [
      "Switched to directory /home/blackhc/PycharmProjects/laaos\n",
      "%load_ext autoreload\n",
      "%autoreload 2\n"
     ]
    }
   ],
   "source": [
    "import blackhc.notebook"
   ]
  },
  {
   "cell_type": "code",
   "execution_count": 2,
   "metadata": {
    "ExecuteTime": {
     "end_time": "2019-04-18T20:31:40.152215Z",
     "start_time": "2019-04-18T20:31:40.131662Z"
    }
   },
   "outputs": [],
   "source": [
    "from laaos import create_file_store, safe_load, compact"
   ]
  },
  {
   "cell_type": "code",
   "execution_count": 3,
   "metadata": {
    "ExecuteTime": {
     "end_time": "2019-04-18T20:31:40.622812Z",
     "start_time": "2019-04-18T20:31:40.616874Z"
    }
   },
   "outputs": [],
   "source": [
    "store = create_file_store('test', suffix='', truncate=True)"
   ]
  },
  {
   "cell_type": "code",
   "execution_count": 4,
   "metadata": {
    "ExecuteTime": {
     "end_time": "2019-04-18T20:31:41.251158Z",
     "start_time": "2019-04-18T20:31:41.229318Z"
    }
   },
   "outputs": [],
   "source": [
    "store['losses'] = []\n",
    "losses = store['losses']"
   ]
  },
  {
   "cell_type": "code",
   "execution_count": 5,
   "metadata": {
    "ExecuteTime": {
     "end_time": "2019-04-18T20:31:41.614381Z",
     "start_time": "2019-04-18T20:31:41.608919Z"
    }
   },
   "outputs": [],
   "source": [
    "for i in range(1, 10):\n",
    "    losses.append(1/i)"
   ]
  },
  {
   "cell_type": "code",
   "execution_count": 6,
   "metadata": {
    "ExecuteTime": {
     "end_time": "2019-04-18T20:31:42.009750Z",
     "start_time": "2019-04-18T20:31:42.000972Z"
    }
   },
   "outputs": [
    {
     "data": {
      "text/plain": [
       "{'losses': [1.0, 0.5, 0.3333333333333333, 0.25, 0.2, 0.16666666666666666, 0.14285714285714285, 0.125, 0.1111111111111111]}"
      ]
     },
     "execution_count": 6,
     "metadata": {},
     "output_type": "execute_result"
    }
   ],
   "source": [
    "store"
   ]
  },
  {
   "cell_type": "code",
   "execution_count": 7,
   "metadata": {
    "ExecuteTime": {
     "end_time": "2019-04-18T20:31:42.841261Z",
     "start_time": "2019-04-18T20:31:42.820980Z"
    }
   },
   "outputs": [],
   "source": [
    "store.close()"
   ]
  },
  {
   "cell_type": "code",
   "execution_count": 8,
   "metadata": {
    "ExecuteTime": {
     "end_time": "2019-04-18T20:31:43.483538Z",
     "start_time": "2019-04-18T20:31:43.177212Z"
    }
   },
   "outputs": [
    {
     "name": "stdout",
     "output_type": "stream",
     "text": [
      "store = {}\r\n",
      "store['losses']=[]\r\n",
      "store['losses'].append(1.0)\r\n",
      "store['losses'].append(0.5)\r\n",
      "store['losses'].append(0.3333333333333333)\r\n",
      "store['losses'].append(0.25)\r\n",
      "store['losses'].append(0.2)\r\n",
      "store['losses'].append(0.16666666666666666)\r\n",
      "store['losses'].append(0.14285714285714285)\r\n",
      "store['losses'].append(0.125)\r\n",
      "store['losses'].append(0.1111111111111111)\r\n"
     ]
    }
   ],
   "source": [
    "!cat laaos/test.py"
   ]
  },
  {
   "cell_type": "code",
   "execution_count": 9,
   "metadata": {
    "ExecuteTime": {
     "end_time": "2019-04-18T20:31:47.911193Z",
     "start_time": "2019-04-18T20:31:47.888087Z"
    }
   },
   "outputs": [
    {
     "data": {
      "text/plain": [
       "{'losses': [1.0,\n",
       "  0.5,\n",
       "  0.3333333333333333,\n",
       "  0.25,\n",
       "  0.2,\n",
       "  0.16666666666666666,\n",
       "  0.14285714285714285,\n",
       "  0.125,\n",
       "  0.1111111111111111]}"
      ]
     },
     "execution_count": 9,
     "metadata": {},
     "output_type": "execute_result"
    }
   ],
   "source": [
    "safe_load('laaos/test.py')"
   ]
  },
  {
   "cell_type": "code",
   "execution_count": 10,
   "metadata": {
    "ExecuteTime": {
     "end_time": "2019-04-18T20:31:49.880707Z",
     "start_time": "2019-04-18T20:31:49.860350Z"
    }
   },
   "outputs": [],
   "source": [
    "from laaos import test"
   ]
  },
  {
   "cell_type": "code",
   "execution_count": 11,
   "metadata": {
    "ExecuteTime": {
     "end_time": "2019-04-18T20:31:50.208151Z",
     "start_time": "2019-04-18T20:31:50.189241Z"
    }
   },
   "outputs": [
    {
     "data": {
      "text/plain": [
       "{'losses': [1.0,\n",
       "  0.5,\n",
       "  0.3333333333333333,\n",
       "  0.25,\n",
       "  0.2,\n",
       "  0.16666666666666666,\n",
       "  0.14285714285714285,\n",
       "  0.125,\n",
       "  0.1111111111111111]}"
      ]
     },
     "execution_count": 11,
     "metadata": {},
     "output_type": "execute_result"
    }
   ],
   "source": [
    "test.store"
   ]
  },
  {
   "cell_type": "code",
   "execution_count": 12,
   "metadata": {
    "ExecuteTime": {
     "end_time": "2019-04-18T20:31:53.701015Z",
     "start_time": "2019-04-18T20:31:53.676368Z"
    }
   },
   "outputs": [],
   "source": [
    "store2 = create_file_store('test2', suffix='', truncate=True)\n",
    "iterations = store2['iterations'] = store2.new_list()\n",
    "iterations.extend(['hello', 'world'])\n",
    "store2.close()\n",
    "\n",
    "store2 = create_file_store('test2', suffix='', truncate=False)\n",
    "iterations = store2['iterations'] = store2.new_list()\n",
    "iterations.extend(['hello', 'world', 'again'])"
   ]
  },
  {
   "cell_type": "code",
   "execution_count": 13,
   "metadata": {
    "ExecuteTime": {
     "end_time": "2019-04-18T20:31:54.357949Z",
     "start_time": "2019-04-18T20:31:54.048840Z"
    }
   },
   "outputs": [
    {
     "name": "stdout",
     "output_type": "stream",
     "text": [
      "store = {}\r\n",
      "store['iterations']=[]\r\n",
      "store['iterations'].append('hello')\r\n",
      "store['iterations'].append('world')\r\n",
      "store = {}\r\n",
      "store['iterations']=[]\r\n",
      "store['iterations'].append('hello')\r\n",
      "store['iterations'].append('world')\r\n",
      "store['iterations'].append('again')\r\n"
     ]
    }
   ],
   "source": [
    "!cat laaos/test2.py"
   ]
  },
  {
   "cell_type": "code",
   "execution_count": 14,
   "metadata": {
    "ExecuteTime": {
     "end_time": "2019-04-18T20:31:59.125309Z",
     "start_time": "2019-04-18T20:31:59.102737Z"
    }
   },
   "outputs": [],
   "source": [
    "compact('laaos/test2.py', 'laaos/test2_compacted.py')"
   ]
  },
  {
   "cell_type": "code",
   "execution_count": 15,
   "metadata": {
    "ExecuteTime": {
     "end_time": "2019-04-18T20:31:59.750652Z",
     "start_time": "2019-04-18T20:31:59.448295Z"
    }
   },
   "outputs": [
    {
     "name": "stdout",
     "output_type": "stream",
     "text": [
      "store = (\r\n",
      "{'iterations': ['hello', 'world', 'again']}\r\n",
      ")\r\n"
     ]
    }
   ],
   "source": [
    "!cat laaos/test2_compacted.py"
   ]
  },
  {
   "cell_type": "code",
   "execution_count": null,
   "metadata": {},
   "outputs": [],
   "source": []
  }
 ],
 "metadata": {
  "kernelspec": {
   "display_name": "Python 3",
   "language": "python",
   "name": "python3"
  },
  "language_info": {
   "codemirror_mode": {
    "name": "ipython",
    "version": 3
   },
   "file_extension": ".py",
   "mimetype": "text/x-python",
   "name": "python",
   "nbconvert_exporter": "python",
   "pygments_lexer": "ipython3",
   "version": "3.7.2"
  },
  "latex_envs": {
   "LaTeX_envs_menu_present": true,
   "autoclose": true,
   "autocomplete": true,
   "bibliofile": "biblio.bib",
   "cite_by": "apalike",
   "current_citInitial": 1,
   "eqLabelWithNumbers": true,
   "eqNumInitial": 1,
   "hotkeys": {
    "equation": "Ctrl-E",
    "itemize": "Ctrl-I"
   },
   "labels_anchors": false,
   "latex_user_defs": false,
   "report_style_numbering": false,
   "user_envs_cfg": false
  },
  "toc": {
   "base_numbering": 1,
   "nav_menu": {},
   "number_sections": true,
   "sideBar": false,
   "skip_h1_title": true,
   "title_cell": "Table of Contents",
   "title_sidebar": "Contents",
   "toc_cell": false,
   "toc_position": {},
   "toc_section_display": true,
   "toc_window_display": false
  }
 },
 "nbformat": 4,
 "nbformat_minor": 1
}
